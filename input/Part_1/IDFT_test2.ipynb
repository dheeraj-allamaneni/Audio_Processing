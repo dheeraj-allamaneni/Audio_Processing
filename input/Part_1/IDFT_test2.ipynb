{
 "cells": [
  {
   "cell_type": "code",
   "execution_count": 1,
   "metadata": {},
   "outputs": [],
   "source": [
    "import numpy as np"
   ]
  },
  {
   "cell_type": "code",
   "execution_count": 2,
   "metadata": {},
   "outputs": [],
   "source": [
    "def IDFT_fn(x):\n",
    "    sze_x = np.size(x)\n",
    "    X_val = np.zeros((sze_x,),dtype=np.complex128)\n",
    "    for m in range(0,sze_x):\n",
    "        for n in range(0,sze_x): \n",
    "            X_val[m] += x[n]*np.exp(np.pi*2j*m*n/sze_x)\n",
    "    return X_val/sze_x"
   ]
  },
  {
   "cell_type": "code",
   "execution_count": 3,
   "metadata": {},
   "outputs": [],
   "source": [
    "X = np.random.rand(1024,)"
   ]
  },
  {
   "cell_type": "markdown",
   "metadata": {},
   "source": [
    "## Now Lets Run our IDFT Function"
   ]
  },
  {
   "cell_type": "code",
   "execution_count": 4,
   "metadata": {},
   "outputs": [
    {
     "data": {
      "text/plain": [
       "array([ 0.51558626+0.j        ,  0.0045763 +0.00061027j,\n",
       "       -0.00433047+0.00274487j, ...,  0.00783235-0.0040975j ,\n",
       "       -0.00433047-0.00274487j,  0.0045763 -0.00061027j])"
      ]
     },
     "execution_count": 4,
     "metadata": {},
     "output_type": "execute_result"
    }
   ],
   "source": [
    "IDFT_fn(X)"
   ]
  },
  {
   "cell_type": "markdown",
   "metadata": {},
   "source": [
    "## Now lets run the numpy's IFFT Function for comparision"
   ]
  },
  {
   "cell_type": "code",
   "execution_count": 5,
   "metadata": {},
   "outputs": [
    {
     "data": {
      "text/plain": [
       "array([ 0.51558626-0.j        ,  0.0045763 +0.00061027j,\n",
       "       -0.00433047+0.00274487j, ...,  0.00783235-0.0040975j ,\n",
       "       -0.00433047-0.00274487j,  0.0045763 -0.00061027j])"
      ]
     },
     "execution_count": 5,
     "metadata": {},
     "output_type": "execute_result"
    }
   ],
   "source": [
    "np.fft.ifft(X)"
   ]
  },
  {
   "cell_type": "code",
   "execution_count": 6,
   "metadata": {},
   "outputs": [
    {
     "data": {
      "text/plain": [
       "True"
      ]
     },
     "execution_count": 6,
     "metadata": {},
     "output_type": "execute_result"
    }
   ],
   "source": [
    "np.allclose(IDFT_fn(X), np.fft.ifft(X))"
   ]
  },
  {
   "cell_type": "markdown",
   "metadata": {},
   "source": [
    "## Hurray !! Our IDFT is equal to Numpy's IDFT implimentation"
   ]
  }
 ],
 "metadata": {
  "kernelspec": {
   "display_name": "Python 3",
   "language": "python",
   "name": "python3"
  },
  "language_info": {
   "codemirror_mode": {
    "name": "ipython",
    "version": 3
   },
   "file_extension": ".py",
   "mimetype": "text/x-python",
   "name": "python",
   "nbconvert_exporter": "python",
   "pygments_lexer": "ipython3",
   "version": "3.6.6"
  }
 },
 "nbformat": 4,
 "nbformat_minor": 2
}
