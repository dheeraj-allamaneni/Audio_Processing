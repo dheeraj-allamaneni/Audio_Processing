{
 "cells": [
  {
   "cell_type": "code",
   "execution_count": 7,
   "metadata": {},
   "outputs": [],
   "source": [
    "from cmath import exp, pi\n",
    " \n",
    "def fft_fn(x):\n",
    "    N = len(x)\n",
    "    if N <= 1: return x\n",
    "    even_part = fft_fn(x[0::2])\n",
    "    odd_part =  fft_fn(x[1::2])\n",
    "    T= [exp(-2j*pi*p/N)*odd_part[p] for p in range(N//2)]\n",
    "    return [even_part[p] + T[p] for p in range(N//2)] + \\\n",
    "           [even_part[p] - T[p] for p in range(N//2)]\n"
   ]
  },
  {
   "cell_type": "code",
   "execution_count": 2,
   "metadata": {},
   "outputs": [],
   "source": [
    "from numpy import array"
   ]
  },
  {
   "cell_type": "code",
   "execution_count": 3,
   "metadata": {},
   "outputs": [],
   "source": [
    "import numpy as np"
   ]
  },
  {
   "cell_type": "code",
   "execution_count": 4,
   "metadata": {},
   "outputs": [],
   "source": [
    "a = array(np.random.random(1024))"
   ]
  },
  {
   "cell_type": "code",
   "execution_count": 5,
   "metadata": {},
   "outputs": [
    {
     "data": {
      "text/plain": [
       "array([0.48228037, 0.7726821 , 0.19520506, ..., 0.95585951, 0.71307254,\n",
       "       0.73051064])"
      ]
     },
     "execution_count": 5,
     "metadata": {},
     "output_type": "execute_result"
    }
   ],
   "source": [
    "a"
   ]
  },
  {
   "cell_type": "code",
   "execution_count": 9,
   "metadata": {},
   "outputs": [
    {
     "data": {
      "text/plain": [
       "array([504.80157023+0.j        ,   1.16209287+1.87240243j,\n",
       "         6.63018469-0.4463443j , ...,   1.33626387+1.41730398j,\n",
       "         6.63018469+0.4463443j ,   1.16209287-1.87240243j])"
      ]
     },
     "execution_count": 9,
     "metadata": {},
     "output_type": "execute_result"
    }
   ],
   "source": [
    "array(fft_fn(a))"
   ]
  },
  {
   "cell_type": "code",
   "execution_count": 10,
   "metadata": {},
   "outputs": [
    {
     "data": {
      "text/plain": [
       "array([504.80157023+0.j        ,   1.16209287+1.87240243j,\n",
       "         6.63018469-0.4463443j , ...,   1.33626387+1.41730398j,\n",
       "         6.63018469+0.4463443j ,   1.16209287-1.87240243j])"
      ]
     },
     "execution_count": 10,
     "metadata": {},
     "output_type": "execute_result"
    }
   ],
   "source": [
    "np.fft.fft(a)"
   ]
  },
  {
   "cell_type": "code",
   "execution_count": 11,
   "metadata": {},
   "outputs": [
    {
     "data": {
      "text/plain": [
       "True"
      ]
     },
     "execution_count": 11,
     "metadata": {},
     "output_type": "execute_result"
    }
   ],
   "source": [
    "np.allclose(array(fft_fn(a)), np.fft.fft(a))"
   ]
  }
 ],
 "metadata": {
  "kernelspec": {
   "display_name": "Python 3",
   "language": "python",
   "name": "python3"
  },
  "language_info": {
   "codemirror_mode": {
    "name": "ipython",
    "version": 3
   },
   "file_extension": ".py",
   "mimetype": "text/x-python",
   "name": "python",
   "nbconvert_exporter": "python",
   "pygments_lexer": "ipython3",
   "version": "3.6.6"
  }
 },
 "nbformat": 4,
 "nbformat_minor": 2
}
