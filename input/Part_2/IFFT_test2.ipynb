{
 "cells": [
  {
   "cell_type": "code",
   "execution_count": 1,
   "metadata": {},
   "outputs": [],
   "source": [
    "from cmath import exp, pi\n",
    " \n",
    "def fft_fn(x):\n",
    "    N = len(x)\n",
    "    if N <= 1: return x\n",
    "    even_part = fft_fn(x[0::2])\n",
    "    odd_part =  fft_fn(x[1::2])\n",
    "    T= [exp(-2j*pi*p/N)*odd_part[p] for p in range(N//2)]\n",
    "    return [even_part[p] + T[p] for p in range(N//2)] + \\\n",
    "           [even_part[p] - T[p] for p in range(N//2)]"
   ]
  },
  {
   "cell_type": "code",
   "execution_count": 2,
   "metadata": {},
   "outputs": [],
   "source": [
    "from numpy import array"
   ]
  },
  {
   "cell_type": "code",
   "execution_count": 3,
   "metadata": {},
   "outputs": [],
   "source": [
    "import numpy as np"
   ]
  },
  {
   "cell_type": "code",
   "execution_count": 4,
   "metadata": {},
   "outputs": [],
   "source": [
    "a = array(np.random.random(1024))"
   ]
  },
  {
   "cell_type": "markdown",
   "metadata": {},
   "source": [
    "## From here we are Implimenting IFFT"
   ]
  },
  {
   "cell_type": "markdown",
   "metadata": {},
   "source": [
    "<math xmlns=\"http://www.w3.org/1998/Math/MathML\" display=\"block\">\n",
    "  <mi>I</mi>\n",
    "  <mi>F</mi>\n",
    "  <mi>F</mi>\n",
    "  <mi>T</mi>\n",
    "  <mo stretchy=\"false\">(</mo>\n",
    "  <mi>X</mi>\n",
    "  <mo stretchy=\"false\">)</mo>\n",
    "  <mo>=</mo>\n",
    "  <mfrac>\n",
    "    <mn>1/</mn>\n",
    "    <mi>N</mi>\n",
    "  </mfrac>\n",
    "  <mi>c</mi>\n",
    "  <mi>o</mi>\n",
    "  <mi>n</mi>\n",
    "  <mi>j</mi>\n",
    "  <mo stretchy=\"false\">(</mo>\n",
    "  <mi>F</mi>\n",
    "  <mi>F</mi>\n",
    "  <mi>T</mi>\n",
    "  <mo stretchy=\"false\">(</mo>\n",
    "  <mi>c</mi>\n",
    "  <mi>o</mi>\n",
    "  <mi>n</mi>\n",
    "  <mi>j</mi>\n",
    "  <mo stretchy=\"false\">(</mo>\n",
    "  <mi>X</mi>\n",
    "  <mo stretchy=\"false\">)</mo>\n",
    "  <mo stretchy=\"false\">)</mo>\n",
    "  <mo stretchy=\"false\">)</mo>\n",
    "</math>"
   ]
  },
  {
   "cell_type": "code",
   "execution_count": 6,
   "metadata": {},
   "outputs": [],
   "source": [
    "N = len(a)\n",
    "ifft_output = (1/N)*np.conj(fft_fn(np.conj(a)))"
   ]
  },
  {
   "cell_type": "markdown",
   "metadata": {},
   "source": [
    "### Here we are comparing our result with Numpy's ifft "
   ]
  },
  {
   "cell_type": "code",
   "execution_count": 7,
   "metadata": {},
   "outputs": [
    {
     "data": {
      "text/plain": [
       "True"
      ]
     },
     "execution_count": 7,
     "metadata": {},
     "output_type": "execute_result"
    }
   ],
   "source": [
    "np.allclose(ifft_output, np.fft.ifft(a))"
   ]
  },
  {
   "cell_type": "markdown",
   "metadata": {},
   "source": [
    "### Yes, As we can see that two results are element-wise equal within a tolerance."
   ]
  }
 ],
 "metadata": {
  "kernelspec": {
   "display_name": "Python 3",
   "language": "python",
   "name": "python3"
  },
  "language_info": {
   "codemirror_mode": {
    "name": "ipython",
    "version": 3
   },
   "file_extension": ".py",
   "mimetype": "text/x-python",
   "name": "python",
   "nbconvert_exporter": "python",
   "pygments_lexer": "ipython3",
   "version": "3.6.6"
  }
 },
 "nbformat": 4,
 "nbformat_minor": 2
}
