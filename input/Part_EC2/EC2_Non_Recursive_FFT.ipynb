{
 "cells": [
  {
   "cell_type": "code",
   "execution_count": 1,
   "metadata": {},
   "outputs": [],
   "source": [
    "import math\n",
    "from cmath import exp, pi\n",
    "import numpy as np"
   ]
  },
  {
   "cell_type": "code",
   "execution_count": 2,
   "metadata": {},
   "outputs": [],
   "source": [
    "def fft_fn( v ):\n",
    "    n, h  = len(v), len(v) >> 1\n",
    "    previous = np.zeros((n,),dtype=np.complex128)\n",
    "    previous = v[:]\n",
    "    latest = np.zeros((n,),dtype=np.complex128)\n",
    "    sublen, stride = 1, n\n",
    "\n",
    "    while sublen <n:\n",
    "        stride>>=1\n",
    "        for i in range( stride ):\n",
    "            for k in range( 0,n,2*stride):\n",
    "                factor = exp(-2j*pi * k / n)\n",
    "                latest[i+(k>>1)]   = previous[i+k] + factor * previous[i+k+stride]\n",
    "                latest[i+(k>>1)+h] = previous[i+k] - factor * previous[i+k+stride]\n",
    "        previous, latest = latest, previous\n",
    "        sublen <<= 1\n",
    "\n",
    "    return previous"
   ]
  },
  {
   "cell_type": "code",
   "execution_count": 3,
   "metadata": {},
   "outputs": [],
   "source": [
    "X = np.random.rand(1024,)"
   ]
  },
  {
   "cell_type": "markdown",
   "metadata": {},
   "source": [
    "## Now Lets test our non-recursive FFT"
   ]
  },
  {
   "cell_type": "code",
   "execution_count": 4,
   "metadata": {},
   "outputs": [
    {
     "data": {
      "text/plain": [
       "array([523.03315668+0.j        ,   4.69304583-0.74800533j,\n",
       "         5.73716514+5.57015994j, ...,   0.71648219-1.89630633j,\n",
       "         5.73716514-5.57015994j,   4.69304583+0.74800533j])"
      ]
     },
     "execution_count": 4,
     "metadata": {},
     "output_type": "execute_result"
    }
   ],
   "source": [
    "fft_fn(X)"
   ]
  },
  {
   "cell_type": "markdown",
   "metadata": {},
   "source": [
    "## Now lets see the Numpy's FFT result for comparision"
   ]
  },
  {
   "cell_type": "code",
   "execution_count": 5,
   "metadata": {},
   "outputs": [
    {
     "data": {
      "text/plain": [
       "array([523.03315668+0.j        ,   4.69304583-0.74800533j,\n",
       "         5.73716514+5.57015994j, ...,   0.71648219-1.89630633j,\n",
       "         5.73716514-5.57015994j,   4.69304583+0.74800533j])"
      ]
     },
     "execution_count": 5,
     "metadata": {},
     "output_type": "execute_result"
    }
   ],
   "source": [
    "np.fft.fft(X)"
   ]
  },
  {
   "cell_type": "markdown",
   "metadata": {},
   "source": [
    "## Now lets see if our Implimentation of non-recursive FFT is same as the Numpy's FFT"
   ]
  },
  {
   "cell_type": "code",
   "execution_count": 6,
   "metadata": {},
   "outputs": [
    {
     "data": {
      "text/plain": [
       "True"
      ]
     },
     "execution_count": 6,
     "metadata": {},
     "output_type": "execute_result"
    }
   ],
   "source": [
    "np.allclose(fft_fn(X), np.fft.fft(X))"
   ]
  },
  {
   "cell_type": "markdown",
   "metadata": {},
   "source": [
    "## Hurray!! yes, they both are same :)"
   ]
  }
 ],
 "metadata": {
  "kernelspec": {
   "display_name": "Python 3",
   "language": "python",
   "name": "python3"
  },
  "language_info": {
   "codemirror_mode": {
    "name": "ipython",
    "version": 3
   },
   "file_extension": ".py",
   "mimetype": "text/x-python",
   "name": "python",
   "nbconvert_exporter": "python",
   "pygments_lexer": "ipython3",
   "version": "3.6.6"
  }
 },
 "nbformat": 4,
 "nbformat_minor": 2
}
