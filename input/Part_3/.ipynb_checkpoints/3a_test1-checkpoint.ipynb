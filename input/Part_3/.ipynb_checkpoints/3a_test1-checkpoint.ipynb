{
 "cells": [
  {
   "cell_type": "code",
   "execution_count": 1,
   "metadata": {},
   "outputs": [],
   "source": [
    "from cmath import exp, pi\n",
    " \n",
    "def fft(x):\n",
    "    N = len(x)\n",
    "    if N <= 1: return x\n",
    "    even_part = fft(x[0::2])\n",
    "    odd_part =  fft(x[1::2])\n",
    "    T= [exp(-2j*pi*k/N)*odd_part[k] for k in range(N//2)]\n",
    "    return [even_part[k] + T[k] for k in range(N//2)] + \\\n",
    "           [even_part[k] - T[k] for k in range(N//2)]\n"
   ]
  },
  {
   "cell_type": "code",
   "execution_count": 2,
   "metadata": {},
   "outputs": [],
   "source": [
    "from numpy import array"
   ]
  },
  {
   "cell_type": "code",
   "execution_count": 3,
   "metadata": {},
   "outputs": [],
   "source": [
    "import numpy as np"
   ]
  },
  {
   "cell_type": "code",
   "execution_count": 4,
   "metadata": {},
   "outputs": [],
   "source": [
    "a = array([0, 0.7071, 1, 0.7071, 0, -0.7071, -1, -0.7071])"
   ]
  },
  {
   "cell_type": "markdown",
   "metadata": {},
   "source": [
    "## Now lets see what output is using our FFT function"
   ]
  },
  {
   "cell_type": "code",
   "execution_count": 7,
   "metadata": {},
   "outputs": [
    {
     "data": {
      "text/plain": [
       "array([ 0.00000000e+00+0.00000000e+00j,  1.22464680e-16-3.99998082e+00j,\n",
       "        0.00000000e+00+0.00000000e+00j,  9.95799250e-17+1.91800920e-05j,\n",
       "        0.00000000e+00+0.00000000e+00j,  1.22464680e-16-1.91800920e-05j,\n",
       "        0.00000000e+00+0.00000000e+00j, -3.44509285e-16+3.99998082e+00j])"
      ]
     },
     "execution_count": 7,
     "metadata": {},
     "output_type": "execute_result"
    }
   ],
   "source": [
    "array(fft(a))"
   ]
  },
  {
   "cell_type": "markdown",
   "metadata": {},
   "source": [
    "## Now lets see what output is using Numpy's FFT "
   ]
  },
  {
   "cell_type": "code",
   "execution_count": 8,
   "metadata": {},
   "outputs": [
    {
     "data": {
      "text/plain": [
       "array([0.+0.00000000e+00j, 0.-3.99998082e+00j, 0.+0.00000000e+00j,\n",
       "       0.+1.91800920e-05j, 0.+0.00000000e+00j, 0.-1.91800920e-05j,\n",
       "       0.-0.00000000e+00j, 0.+3.99998082e+00j])"
      ]
     },
     "execution_count": 8,
     "metadata": {},
     "output_type": "execute_result"
    }
   ],
   "source": [
    "np.fft.fft(a)"
   ]
  },
  {
   "cell_type": "markdown",
   "metadata": {},
   "source": [
    "## Now lets check if our FFT function is element wise equal (within tolerance) to Numpy's FFT "
   ]
  },
  {
   "cell_type": "code",
   "execution_count": 5,
   "metadata": {},
   "outputs": [
    {
     "data": {
      "text/plain": [
       "True"
      ]
     },
     "execution_count": 5,
     "metadata": {},
     "output_type": "execute_result"
    }
   ],
   "source": [
    "np.allclose(array(fft(a)), np.fft.fft(a))"
   ]
  },
  {
   "cell_type": "markdown",
   "metadata": {},
   "source": [
    "## Now lets see what is the difference between our FFT output and Numpy's FFT"
   ]
  },
  {
   "cell_type": "code",
   "execution_count": 9,
   "metadata": {},
   "outputs": [
    {
     "data": {
      "text/plain": [
       "array([ 0.00000000e+00+0.00000000e+00j,  1.22464680e-16+0.00000000e+00j,\n",
       "        0.00000000e+00+0.00000000e+00j,  9.95799250e-17+2.22044605e-16j,\n",
       "        0.00000000e+00+0.00000000e+00j,  1.22464680e-16+0.00000000e+00j,\n",
       "        0.00000000e+00+0.00000000e+00j, -3.44509285e-16+0.00000000e+00j])"
      ]
     },
     "execution_count": 9,
     "metadata": {},
     "output_type": "execute_result"
    }
   ],
   "source": [
    "array(fft(a)) - np.fft.fft(a)"
   ]
  },
  {
   "cell_type": "markdown",
   "metadata": {},
   "source": [
    "## Hurray!!! ,  The both outputs are equal (almost, difference is in around 10^-17)"
   ]
  }
 ],
 "metadata": {
  "kernelspec": {
   "display_name": "Python 3",
   "language": "python",
   "name": "python3"
  },
  "language_info": {
   "codemirror_mode": {
    "name": "ipython",
    "version": 3
   },
   "file_extension": ".py",
   "mimetype": "text/x-python",
   "name": "python",
   "nbconvert_exporter": "python",
   "pygments_lexer": "ipython3",
   "version": "3.6.6"
  }
 },
 "nbformat": 4,
 "nbformat_minor": 2
}
